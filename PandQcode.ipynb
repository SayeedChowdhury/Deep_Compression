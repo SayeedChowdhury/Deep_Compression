{
 "cells": [
  {
   "cell_type": "markdown",
   "metadata": {},
   "source": [
    "# Modifying Conv1 layer of CIFAR10 Network using Pruning, Quantization and Huffman Encoding methods of the Deep Compression paper\n",
    "\n",
    "## Load the pretrained model, solvers, and look at the shape of the model"
   ]
  },
  {
   "cell_type": "code",
   "execution_count": 1,
   "metadata": {
    "collapsed": false
   },
   "outputs": [
    {
     "name": "stdout",
     "output_type": "stream",
     "text": [
      "/sbin/ldconfig.real: /usr/local/cuda/lib64/libcudnn.so.5 is not a symbolic link\r\n",
      "\r\n",
      "/sbin/ldconfig.real: /usr/lib/x86_64-linux-gnu/libcudnn.so.5 is not a symbolic link\r\n",
      "\r\n",
      "/sbin/ldconfig.real: /usr/lib/nvidia-375/libEGL.so.1 is not a symbolic link\r\n",
      "\r\n",
      "/sbin/ldconfig.real: /usr/lib32/nvidia-375/libEGL.so.1 is not a symbolic link\r\n",
      "\r\n"
     ]
    },
    {
     "data": {
      "text/plain": [
       "[('conv1', (32, 3, 5, 5)),\n",
       " ('conv2', (32, 32, 5, 5)),\n",
       " ('conv3', (64, 32, 5, 5)),\n",
       " ('ip1', (10, 1024))]"
      ]
     },
     "execution_count": 1,
     "metadata": {},
     "output_type": "execute_result"
    }
   ],
   "source": [
    "!sudo ldconfig /usr/local/cuda/lib64\n",
    "\n",
    "\n",
    "from pylab import *\n",
    "import os\n",
    "%matplotlib inline\n",
    "caffe_root = '/home/super/ISHA/Deep_Learning/Caffe/caffe/'  # this file should be run from {caffe_root}/examples (otherwise change this line)\n",
    " \n",
    "import sys\n",
    "sys.path.insert(0, caffe_root + 'python')\n",
    "import caffe\n",
    " \n",
    "GPU_ID = 1 # Switch between 0 and 1 depending on the GPU you want to use.\n",
    "caffe.set_mode_gpu()\n",
    "caffe.set_device(1)\n",
    "os.chdir(caffe_root)\n",
    " \n",
    "solver = None  # ignore this workaround for lmdb data (can't instantiate two solvers on the same data)\n",
    "solver = caffe.SGDSolver('/home/super/ISHA/Deep_Learning/16Nov/neuron_wise_exhaustive/cifar10_full_solver.prototxt')\n",
    "solver.net.copy_from('/home/super/ISHA/Deep_Learning/16Nov/neuron_wise_exhaustive/reference.caffemodel.h5')\n",
    " \n",
    " \n",
    "[(k, v[0].data.shape) for k, v in solver.net.params.items()]\n",
    " "
   ]
  },
  {
   "cell_type": "markdown",
   "metadata": {},
   "source": [
    "### Look at the distribution of the weights. Sort the weights by the absolute magnitude, with the most important weight being the one with the highest magnitude. Notice that most weights are concentrated near the origin, and the distribution looks like a Guassian centred at 0."
   ]
  },
  {
   "cell_type": "code",
   "execution_count": 2,
   "metadata": {
    "collapsed": false
   },
   "outputs": [
    {
     "name": "stdout",
     "output_type": "stream",
     "text": [
      "('stats for layer', 'conv1')\n",
      "('max, min and mean value  of original data are ', 0.38542399, -0.36021158, -0.00019509663)\n",
      "('max, min and mean value  of absolute value of original data  are ', 0.38542399, 5.1449009e-05, 0.067123264)\n"
     ]
    },
    {
     "data": {
      "image/png": "[encoded data removed]",
      "text/plain": [
       "<matplotlib.figure.Figure at 0x7f70853d55d0>"
      ]
     },
     "metadata": {},
     "output_type": "display_data"
    },
    {
     "name": "stdout",
     "output_type": "stream",
     "text": [
      "('number of non zero elements in original data are: ', 2400)\n",
      "the indices of the largest 10 weights and their values are\n",
      "(8, 0, 2, 2) 0.385424\n",
      "(3, 1, 2, 2) -0.360212\n",
      "(11, 0, 1, 2) 0.33931\n",
      "(8, 2, 2, 2) 0.338287\n",
      "(31, 1, 1, 2) -0.334987\n",
      "(8, 1, 2, 2) 0.331826\n",
      "(3, 0, 2, 2) -0.32304\n",
      "(11, 2, 1, 2) 0.32127\n",
      "(31, 1, 2, 1) 0.320731\n",
      "(3, 2, 2, 2) -0.308671\n"
     ]
    }
   ],
   "source": [
    "def layer_stats(solver,layername):\n",
    "    print('stats for layer',layername)\n",
    "    original_data=np.copy(solver.net.params[layername][0].data[:])\n",
    "    absolute_orig_data=np.abs(original_data)\n",
    "    print('max, min and mean value  of original data are ',np.max(original_data),np.min(original_data),np.mean(original_data))\n",
    "    print('max, min and mean value  of absolute value of original data  are ',np.max(absolute_orig_data),np.min(absolute_orig_data),np.mean(absolute_orig_data))\n",
    "    plt.hist(original_data.flatten(),bins=10)\n",
    "    plt.show()\n",
    "    \n",
    "    ## Sort the weigh indices according to magnitude, in descending order\n",
    "    train_abs=np.copy(absolute_orig_data)\n",
    "    print('number of non zero elements in original data are: ',np.count_nonzero(train_abs))\n",
    "\n",
    "    flat_sort_rev_trainwt=[]\n",
    "\n",
    "    #code to rank weights\n",
    "    for index, x in np.ndenumerate(train_abs):\n",
    "      flat_sort_rev_trainwt.append([index,x])\n",
    "\n",
    "\n",
    "    flat_sort_rev_trainwt.sort(key=lambda x: x[1],reverse=True)\n",
    "\n",
    "    print('the indices of the largest 10 weights and their values are')\n",
    "    trainwt_bottom=[]\n",
    "    for i in range(10): \n",
    "      trainwt_bottom.append(flat_sort_rev_trainwt[i][0][:])\n",
    "      print trainwt_bottom[-1],original_data[trainwt_bottom[-1]]\n",
    "    \n",
    "    return flat_sort_rev_trainwt\n",
    "\n",
    "flat_sort_rev_trainwt= layer_stats(solver,'conv1')"
   ]
  },
  {
   "cell_type": "markdown",
   "metadata": {},
   "source": [
    "## PRUNING SETUP:"
   ]
  },
  {
   "cell_type": "markdown",
   "metadata": {},
   "source": [
    "#### Create a mask to mask out the weights that you want to prune out"
   ]
  },
  {
   "cell_type": "code",
   "execution_count": 3,
   "metadata": {
    "collapsed": false
   },
   "outputs": [
    {
     "name": "stdout",
     "output_type": "stream",
     "text": [
      "total number of elements in the layer = 2400\n",
      "number of weights retained = 100\n",
      "non zero elements and sum of mask=100.0\n",
      "zeroed out elements=2300.0\n"
     ]
    }
   ],
   "source": [
    "def create_mask(solver,layername,num_elements_retained,flat_sort_rev_trainwt):\n",
    "    mask=np.zeros(np.shape(solver.net.params[layername][0].data[:]))\n",
    "    total=len(flat_sort_rev_trainwt)\n",
    "\n",
    "    for i in range(num_elements_retained):\n",
    "          mask[flat_sort_rev_trainwt[i][0]]=1\n",
    "\n",
    "\n",
    "    print 'total number of elements in the layer = ' + str(total)\n",
    "    print 'number of weights retained = ' + str(num_elements_retained)\n",
    "    print 'non zero elements and sum of mask='+str(sum(mask))\n",
    "    print 'zeroed out elements=' + str(total-sum(mask))\n",
    "    \n",
    "    return mask\n",
    "    \n",
    "mask=create_mask(solver,'conv1',100,flat_sort_rev_trainwt)"
   ]
  },
  {
   "cell_type": "markdown",
   "metadata": {
    "collapsed": true
   },
   "source": [
    "#### Create the training and testing loops"
   ]
  },
  {
   "cell_type": "code",
   "execution_count": 4,
   "metadata": {
    "collapsed": true
   },
   "outputs": [],
   "source": [
    "#training loop\n",
    "def training_loop_pruning(solver,mask,layername,niter=60000):\n",
    "  print('starting training')\n",
    " # niter = 60000\n",
    "  test_interval = 1000\n",
    "  train_loss = zeros(niter)\n",
    "  test_acc = zeros(int(np.ceil(niter / test_interval)))\n",
    "  output = zeros((niter, 8, 10))\n",
    "\n",
    "# the main solver loop\n",
    "  for it in range(niter):\n",
    "      solver.step(1)  # SGD by Caffe\n",
    "    \n",
    "    # store the train loss\n",
    "      train_loss[it] = solver.net.blobs['loss'].data\n",
    "    \n",
    "    # store the output on the first test batch\n",
    "    # (start the forward pass at ip1 to avoid loading new data)\n",
    "      solver.test_nets[0].forward(start='conv1')\n",
    "      output[it] = solver.test_nets[0].blobs['ip1'].data[:8]\n",
    "      solver.net.params[layername][0].data[:] = solver.net.params[layername][0].data[:] * mask\n",
    "        \n",
    "    # run a full test every so often\n",
    "    # (Caffe can also do this for us and write to a log, but we show here\n",
    "    #  how to do it directly in Python, where more complicated things are easier.)\n",
    "      if it % test_interval == 0:\n",
    "       # print 'Iteration', it, 'testing...'\n",
    "       # print('nonzero in ip1 num are:',len(np.nonzero(solver.test_nets[0].params['ip1'][0].data[:])[0]))\n",
    "        correct = 0\n",
    "        for test_it in range(100):\n",
    "            solver.test_nets[0].forward()\n",
    "            correct += sum(solver.test_nets[0].blobs['ip1'].data.argmax(1)\n",
    "                           == solver.test_nets[0].blobs['label'].data)\n",
    "        test_acc[it // test_interval] = correct / 1e4\n",
    "  return test_acc[-1]\n",
    "\n",
    "    "
   ]
  },
  {
   "cell_type": "code",
   "execution_count": 20,
   "metadata": {
    "collapsed": false,
    "scrolled": true
   },
   "outputs": [],
   "source": [
    "def train_with_mask(elements_to_retain,flat_sort_rev_trainwt,solver,layername,niter=60000):\n",
    "  solver.net.copy_from('/home/super/ISHA/Deep_Learning/16Nov/neuron_wise_exhaustive/reference.caffemodel.h5')\n",
    "  print('solver loaded')\n",
    "\n",
    "\n",
    "  mask=np.zeros(np.shape(solver.net.params[layername][0].data[:]))\n",
    "  total=len(flat_sort_rev_trainwt)\n",
    "  for i in range(elements_to_retain):\n",
    "    mask[flat_sort_rev_trainwt[i][0]]=1\n",
    "\n",
    "\n",
    "  print 'total number of elements = '  + str(total)\n",
    "  print 'thresh_percent, number of weights retained = ' + str(elements_to_retain)\n",
    "  print 'non zero elements and sum of mask='+str(sum(mask))\n",
    "  print 'zeroed out elements=' + str(total-sum(mask))\n",
    "\n",
    " \n",
    "  solver.net.params[layername][0].data[:] = solver.net.params[layername][0].data[:] * mask\n",
    "  print('starting training for bot_thresh=',elements_to_retain)\n",
    "  test_acc=training_loop_pruning(solver,mask,layername,niter)\n",
    "  print('testing accuracy is: ',test_acc)\n",
    "  return test_acc"
   ]
  },
  {
   "cell_type": "code",
   "execution_count": 21,
   "metadata": {
    "collapsed": false
   },
   "outputs": [
    {
     "name": "stdout",
     "output_type": "stream",
     "text": [
      "0.8183\n"
     ]
    }
   ],
   "source": [
    " \n",
    "solver.test_nets[0].copy_from('/home/super/ISHA/Deep_Learning/16Nov/neuron_wise_exhaustive/reference.caffemodel.h5')\n",
    "#solver.test_nets[0].params['conv1'][0].data[:]=np.copy(new100)\n",
    "\n",
    "correct = 0\n",
    "for test_it in range(100):\n",
    "    solver.test_nets[0].forward()\n",
    "    correct += sum(solver.test_nets[0].blobs['ip1'].data.argmax(1)\n",
    "                           == solver.test_nets[0].blobs['label'].data)\n",
    "print(correct/1e4)"
   ]
  },
  {
   "cell_type": "markdown",
   "metadata": {},
   "source": [
    "#### decide pruning thresholds (number of weights you want to retain), and retrain keeping only those elemts active via a mask. Decide upon the final threshold, and save the trained model weights."
   ]
  },
  {
   "cell_type": "code",
   "execution_count": null,
   "metadata": {
    "collapsed": false,
    "scrolled": true
   },
   "outputs": [
    {
     "name": "stdout",
     "output_type": "stream",
     "text": [
      "('running case', 10)\n",
      "solver loaded\n",
      "total number of elements = 2400\n",
      "thresh_percent, number of weights retained = 10\n",
      "non zero elements and sum of mask=10.0\n",
      "zeroed out elements=2390.0\n",
      "('starting training for bot_thresh=', 10)\n",
      "starting training\n"
     ]
    }
   ],
   "source": [
    "accuracy=[]\n",
    "retained=[10,20,40,60,80,100]\n",
    "for retain in retained:\n",
    "    print('running case',retain)\n",
    "    accuracy.append(train_with_mask(retain,flat_sort_rev_trainwt,solver,'conv1',niter=60000))\n",
    "    \n",
    "print(accuracy)"
   ]
  },
  {
   "cell_type": "code",
   "execution_count": 14,
   "metadata": {
    "collapsed": false
   },
   "outputs": [
    {
     "name": "stdout",
     "output_type": "stream",
     "text": [
      "('number of nonzero weights are ', 1350)\n",
      "('accuracy is ', 0.73899999999999999)\n"
     ]
    }
   ],
   "source": [
    "#retest pruned solver after loading the relevant model.\n",
    "solver.net.copy_from('/home/super/ISHA/Deep_Learning/16Nov/neuron_wise_exhaustive/reference100.caffemodel.h5')\n",
    "solver.test_nets[0].copy_from('/home/super/ISHA/Deep_Learning/16Nov/neuron_wise_exhaustive/reference100.caffemodel.h5')\n",
    "original_data100=np.copy(solver.net.params['conv1'][0].data[:])\n",
    "\n",
    "print('number of nonzero weights are ',len(np.nonzero(solver.net.params['conv1'][0].data[:])[0]))\n",
    "\n",
    "correct = 0\n",
    "for test_it in range(100):\n",
    "    solver.test_nets[0].forward()\n",
    "    correct += sum(solver.test_nets[0].blobs['ip1'].data.argmax(1)\n",
    "                           == solver.test_nets[0].blobs['label'].data)\n",
    "print('accuracy is ',correct/1e4)"
   ]
  },
  {
   "cell_type": "markdown",
   "metadata": {},
   "source": [
    "## QUANTIZATION SETUP\n",
    "\n",
    "\n",
    "#### Save the pruned  layer weights and create the mask "
   ]
  },
  {
   "cell_type": "code",
   "execution_count": 15,
   "metadata": {
    "collapsed": true
   },
   "outputs": [],
   "source": [
    "original_data100=np.copy(solver.net.params['conv1'][0].data[:])\n",
    "mask=np.zeros(np.shape(solver.net.params['conv1'][0].data[:]))\n",
    "for i in range(100):\n",
    "  mask[flat_sort_rev_trainwt[i][0]]=1"
   ]
  },
  {
   "cell_type": "code",
   "execution_count": 16,
   "metadata": {
    "collapsed": false
   },
   "outputs": [],
   "source": [
    "# quantizer weights according to codebok and code\n",
    "def quantize_weights(solver,codebook,code,layername):\n",
    "    original_data=np.copy(solver.net.params[layername][0].data[:])\n",
    "    weight_conv1_flattened=original_data.flatten()\n",
    "    nz_idx=np.nonzero(weight_conv1_flattened)\n",
    "    conv1_flat_changed=np.zeros(weight_conv1_flattened.shape)\n",
    "    for idx,nzidx in enumerate(nz_idx[0]):\n",
    "        conv1_flat_changed[nzidx]=codebook[code[idx]]\n",
    "    conv1_changed=conv1_flat_changed.reshape(original_data.shape)\n",
    "    return conv1_changed\n",
    "\n",
    "\n",
    "#quantize the backward gradients\n",
    "def quantize_grads(solver,code,codebook,layername):\n",
    "    original_data=np.copy(solver.net.params[layername][0].data[:])\n",
    "    weight_conv1_flattened=original_data.flatten()\n",
    "    nz_idx=np.nonzero(weight_conv1_flattened)\n",
    "    gradients=solver.net.params[layername][0].diff\n",
    "    gradients_codebook=np.zeros((codebook.shape))\n",
    "    grads_flatten=gradients.flatten()\n",
    "    final_grads=[]\n",
    "    [final_grads.append(grads_flatten[nzidx]) for nzidx in nz_idx[0]]\n",
    "    for idx,grad in enumerate(final_grads):\n",
    "        gradients_codebook[code[idx]]+=grad\n",
    "    return gradients_codebook\n",
    "\n",
    "\n",
    "#update the codebook with the cumulative gradient, sort of like a custom solver.step(1) for the codebook\n",
    "def update_codebook(codebook,gradients_codebook,learning_rate,velocity,momentum):\n",
    "    velocity=np.multiply(momentum,velocity)-np.multiply(learning_rate,gradients_codebook)\n",
    "    codebook+=velocity\n",
    "    return codebook,velocity\n",
    "        \n",
    "#wrap forward, backward and update step into 1 training step       \n",
    "def quantized_training_step(solver,codebook,code,mask,learning_rate,velocity,momentum,layername):\n",
    "    solver.step(1)\n",
    "    solver.net.params[layername][0].data[:]= solver.net.params[layername][0].data[:]*mask\n",
    "    gradients_codebook=quantize_grads(solver,code,codebook,'conv1')\n",
    "    codebook,velocity=update_codebook(codebook,gradients_codebook,learning_rate,velocity,momentum)\n",
    "    quantized_weights=quantize_weights(solver,codebook,code,'conv1')\n",
    "    solver.net.params[layername][0].data[:]=np.copy(quantized_weights)\n",
    "    for k, v in solver.net.params.items():\n",
    "        solver.test_nets[0].params[k][0].data[:]= np.copy(v[0].data)\n",
    "\n",
    "    \n",
    "#generate codebook from kmeans clustering trained weights\n",
    "#using uniform cenroid initialization as that gives best results\n",
    "def cluster_trained_weights(solver,numClusters,layername):\n",
    "    original_data=np.copy(solver.net.params[layername][0].data[:])\n",
    "    nz_idx=np.nonzero(original_data)\n",
    "    nz_data=original_data[nz_idx]\n",
    "    X=nz_data.flatten()\n",
    "    X=X.reshape(-1,1)\n",
    "    #X=whiten(X)\n",
    "    InitC=np.linspace(X.min(),X.max(),num=numClusters)\n",
    "    codebook, codeX=kmeans2(X, InitC.reshape(-1,1), minit='matrix')\n",
    "    #codebook, codeX=kmeans2(X, numClusters, minit='points')\n",
    "    #codeX,dist=vq(X,codebook)\n",
    "    #print(code.min(),code.max())\n",
    "    edges_hist=[x for x in range(numClusters+1)]\n",
    "    frq, edges = np.histogram(codeX,edges_hist)\n",
    "    fig, ax = plt.subplots()\n",
    "    ax.bar(edges[:-1], frq, width=np.diff(edges), ec=\"k\", align=\"edge\")\n",
    "    plt.show()\n",
    "    return codeX,codebook\n",
    "\n",
    "\n",
    "\n",
    "#training loop\n",
    "def training_loop(solver,niter,codebook,code,mask,learning_rate,velocity,momentum,layername):\n",
    "  print('starting training')\n",
    "  test_interval=1000\n",
    "  train_loss = zeros(niter)\n",
    "  test_acc = zeros(int(np.ceil(niter / test_interval)))\n",
    "  output = zeros((niter, 8, 10))\n",
    "\n",
    "\n",
    "# the main solver loop\n",
    "  for it in range(niter):\n",
    "    #if it>niter/2: learning_rate=learning_rate/8 #uncomment this if you need to reduce learning rate\n",
    "            \n",
    "    # solver.step(1)\n",
    "      quantized_training_step(solver,codebook,code,mask,learning_rate,velocity,momentum,'conv1')  # custom SGD step for quantization\n",
    "    \n",
    "    # store the train loss\n",
    "      train_loss[it] = solver.net.blobs['loss'].data\n",
    "    # (start the forward pass at conv1 to avoid loading new data)\n",
    "      solver.test_nets[0].forward(start='conv1')\n",
    "      output[it] = solver.test_nets[0].blobs['ip1'].data[:8]\n",
    "      solver.net.params[layername][0].data[:] = solver.net.params[layername][0].data[:]  * mask\n",
    "    # run a full test every so often\n",
    "      if it % test_interval == 0:\n",
    "       # print 'Iteration', it, 'testing...'\n",
    "        correct = 0\n",
    "        for test_it in range(100):\n",
    "            solver.test_nets[0].forward()\n",
    "            correct += sum(solver.test_nets[0].blobs['ip1'].data.argmax(1)\n",
    "                           == solver.test_nets[0].blobs['label'].data)\n",
    "        test_acc[it // test_interval] = correct / 1e4\n",
    "        print('accuracy for this iteration is',correct/1e4)\n",
    "    \n",
    "  _, ax1 = subplots()\n",
    "  ax2 = ax1.twinx()\n",
    "  ax1.plot(arange(niter), train_loss)\n",
    "  ax2.plot(test_interval * arange(len(test_acc)), test_acc, 'r')\n",
    "  ax1.set_xlabel('iteration')\n",
    "  ax1.set_ylabel('train loss')\n",
    "  ax2.set_ylabel('test accuracy')\n",
    "  ax2.set_title('Test Accuracy: {:.2f}'.format(test_acc[-1]))\n",
    "        \n",
    "  return test_acc[-1]\n",
    "\n",
    "\n",
    "def refresh_solver(solver,data,reference,layername):\n",
    "    solver.net.copy_from(reference)\n",
    "    solver.net.params[layername][0].data[:]=np.copy(data)\n",
    "\n",
    "def top_level_training(solver,clusters,mask,data,reference,layername,learning_rate=0.0001,momentum=0.9,niter=60000):\n",
    "    refresh_solver(solver,data,reference,'conv1')\n",
    "    print('toplevel shape nonzero is',len(np.nonzero(solver.net.params[layername][0].data[:])[0]))\n",
    "    code,codebook = cluster_trained_weights(solver,clusters,layername)\n",
    "    print('shape of code and codebook is ',code.shape,codebook)\n",
    "    solver.net.params[layername][0].data[:]=np.copy(quantize_weights(solver,codebook,code,layername))\n",
    "    print('toplevel shape nonzero is',len(np.nonzero(solver.net.params[layername][0].data[:])[0]))\n",
    "    velocity=np.zeros(codebook.shape) #TODO: possible bug. Check how velocity is initialized\n",
    "    quantized_training_step(solver,codebook,code,mask,learning_rate,velocity,momentum,layername)\n",
    "    return training_loop(solver,niter,codebook,code,mask,learning_rate,velocity,momentum,layername)\n",
    "\n",
    "    \n",
    "\n",
    "    "
   ]
  },
  {
   "cell_type": "code",
   "execution_count": 17,
   "metadata": {
    "collapsed": false
   },
   "outputs": [
    {
     "name": "stdout",
     "output_type": "stream",
     "text": [
      "1350\n"
     ]
    }
   ],
   "source": [
    "    \n",
    "data100=original_data100\n",
    "reference100='/home/super/ISHA/Deep_Learning/16Nov/neuron_wise_exhaustive/reference100.caffemodel.h5'\n",
    "mask100=np.zeros(np.shape(solver.net.params['conv1'][0].data[:]))\n",
    "for i in range(100):\n",
    "  mask100[flat_sort_rev_trainwt[i][0]]=1\n",
    "    \n",
    "print(len(np.nonzero(original_data100)[0]))\n"
   ]
  },
  {
   "cell_type": "code",
   "execution_count": 18,
   "metadata": {
    "collapsed": false,
    "scrolled": false
   },
   "outputs": [
    {
     "name": "stdout",
     "output_type": "stream",
     "text": [
      "('running for clusters', 2)\n",
      "('toplevel shape nonzero is', 1350)\n"
     ]
    },
    {
     "data": {
      "image/png": "[encoded data removed]",
      "text/plain": [
       "<matplotlib.figure.Figure at 0x7f700c398250>"
      ]
     },
     "metadata": {},
     "output_type": "display_data"
    },
    {
     "name": "stdout",
     "output_type": "stream",
     "text": [
      "('shape of code and codebook is ', (1350,), array([[-0.43558228],\n",
      "       [ 0.01160863]], dtype=float32))\n",
      "('toplevel shape nonzero is', 1350)\n",
      "starting training\n",
      "('accuracy for this iteration is', 0.1145)\n",
      "('accuracy for this iteration is', 0.41339999999999999)\n",
      "('accuracy for this iteration is', 0.44979999999999998)\n",
      "('accuracy for this iteration is', 0.47420000000000001)\n",
      "('accuracy for this iteration is', 0.49419999999999997)\n",
      "('accuracy for this iteration is', 0.5121)\n",
      "('accuracy for this iteration is', 0.52400000000000002)\n",
      "('accuracy for this iteration is', 0.53300000000000003)\n",
      "('accuracy for this iteration is', 0.5423)\n",
      "('accuracy for this iteration is', 0.55179999999999996)\n",
      "('accuracy for this iteration is', 0.55769999999999997)\n",
      "('accuracy for this iteration is', 0.5605)\n",
      "('accuracy for this iteration is', 0.56520000000000004)\n",
      "('accuracy for this iteration is', 0.57040000000000002)\n"
     ]
    },
    {
     "ename": "KeyboardInterrupt",
     "evalue": "",
     "output_type": "error",
     "traceback": [
      "\u001b[0;31m---------------------------------------------------------------------------\u001b[0m",
      "\u001b[0;31mKeyboardInterrupt\u001b[0m                         Traceback (most recent call last)",
      "\u001b[0;32m<ipython-input-18-93904cb7bbb8>\u001b[0m in \u001b[0;36m<module>\u001b[0;34m()\u001b[0m\n\u001b[1;32m      5\u001b[0m \u001b[0;32mfor\u001b[0m \u001b[0mnc\u001b[0m \u001b[0;32min\u001b[0m \u001b[0mnumClusters\u001b[0m\u001b[0;34m:\u001b[0m\u001b[0;34m\u001b[0m\u001b[0m\n\u001b[1;32m      6\u001b[0m     \u001b[0;32mprint\u001b[0m\u001b[0;34m(\u001b[0m\u001b[0;34m'running for clusters'\u001b[0m\u001b[0;34m,\u001b[0m\u001b[0mnc\u001b[0m\u001b[0;34m)\u001b[0m\u001b[0;34m\u001b[0m\u001b[0m\n\u001b[0;32m----> 7\u001b[0;31m     \u001b[0mfinal_acc\u001b[0m\u001b[0;34m.\u001b[0m\u001b[0mappend\u001b[0m\u001b[0;34m(\u001b[0m\u001b[0mtop_level_training\u001b[0m\u001b[0;34m(\u001b[0m\u001b[0msolver\u001b[0m\u001b[0;34m,\u001b[0m\u001b[0mnc\u001b[0m\u001b[0;34m,\u001b[0m\u001b[0mmask100\u001b[0m\u001b[0;34m,\u001b[0m\u001b[0mdata100\u001b[0m\u001b[0;34m,\u001b[0m\u001b[0mreference100\u001b[0m\u001b[0;34m,\u001b[0m\u001b[0;34m'conv1'\u001b[0m\u001b[0;34m,\u001b[0m\u001b[0mniter\u001b[0m\u001b[0;34m=\u001b[0m\u001b[0;36m60000\u001b[0m\u001b[0;34m)\u001b[0m\u001b[0;34m)\u001b[0m\u001b[0;34m\u001b[0m\u001b[0m\n\u001b[0m\u001b[1;32m      8\u001b[0m     \u001b[0;32mprint\u001b[0m\u001b[0;34m(\u001b[0m\u001b[0;34m'final_acc'\u001b[0m\u001b[0;34m)\u001b[0m\u001b[0;34m\u001b[0m\u001b[0m\n",
      "\u001b[0;32m<ipython-input-16-bebac18ec989>\u001b[0m in \u001b[0;36mtop_level_training\u001b[0;34m(solver, clusters, mask, data, reference, layername, learning_rate, momentum, niter)\u001b[0m\n\u001b[1;32m    125\u001b[0m     \u001b[0mvelocity\u001b[0m\u001b[0;34m=\u001b[0m\u001b[0mnp\u001b[0m\u001b[0;34m.\u001b[0m\u001b[0mzeros\u001b[0m\u001b[0;34m(\u001b[0m\u001b[0mcodebook\u001b[0m\u001b[0;34m.\u001b[0m\u001b[0mshape\u001b[0m\u001b[0;34m)\u001b[0m \u001b[0;31m#TODO: possible bug. Check how velocity is initialized\u001b[0m\u001b[0;34m\u001b[0m\u001b[0m\n\u001b[1;32m    126\u001b[0m     \u001b[0mquantized_training_step\u001b[0m\u001b[0;34m(\u001b[0m\u001b[0msolver\u001b[0m\u001b[0;34m,\u001b[0m\u001b[0mcodebook\u001b[0m\u001b[0;34m,\u001b[0m\u001b[0mcode\u001b[0m\u001b[0;34m,\u001b[0m\u001b[0mmask\u001b[0m\u001b[0;34m,\u001b[0m\u001b[0mlearning_rate\u001b[0m\u001b[0;34m,\u001b[0m\u001b[0mvelocity\u001b[0m\u001b[0;34m,\u001b[0m\u001b[0mmomentum\u001b[0m\u001b[0;34m,\u001b[0m\u001b[0mlayername\u001b[0m\u001b[0;34m)\u001b[0m\u001b[0;34m\u001b[0m\u001b[0m\n\u001b[0;32m--> 127\u001b[0;31m     \u001b[0;32mreturn\u001b[0m \u001b[0mtraining_loop\u001b[0m\u001b[0;34m(\u001b[0m\u001b[0msolver\u001b[0m\u001b[0;34m,\u001b[0m\u001b[0mniter\u001b[0m\u001b[0;34m,\u001b[0m\u001b[0mcodebook\u001b[0m\u001b[0;34m,\u001b[0m\u001b[0mcode\u001b[0m\u001b[0;34m,\u001b[0m\u001b[0mmask\u001b[0m\u001b[0;34m,\u001b[0m\u001b[0mlearning_rate\u001b[0m\u001b[0;34m,\u001b[0m\u001b[0mvelocity\u001b[0m\u001b[0;34m,\u001b[0m\u001b[0mmomentum\u001b[0m\u001b[0;34m,\u001b[0m\u001b[0mlayername\u001b[0m\u001b[0;34m)\u001b[0m\u001b[0;34m\u001b[0m\u001b[0m\n\u001b[0m\u001b[1;32m    128\u001b[0m \u001b[0;34m\u001b[0m\u001b[0m\n\u001b[1;32m    129\u001b[0m \u001b[0;34m\u001b[0m\u001b[0m\n",
      "\u001b[0;32m<ipython-input-16-bebac18ec989>\u001b[0m in \u001b[0;36mtraining_loop\u001b[0;34m(solver, niter, codebook, code, mask, learning_rate, velocity, momentum, layername)\u001b[0m\n\u001b[1;32m     86\u001b[0m       \u001b[0mtrain_loss\u001b[0m\u001b[0;34m[\u001b[0m\u001b[0mit\u001b[0m\u001b[0;34m]\u001b[0m \u001b[0;34m=\u001b[0m \u001b[0msolver\u001b[0m\u001b[0;34m.\u001b[0m\u001b[0mnet\u001b[0m\u001b[0;34m.\u001b[0m\u001b[0mblobs\u001b[0m\u001b[0;34m[\u001b[0m\u001b[0;34m'loss'\u001b[0m\u001b[0;34m]\u001b[0m\u001b[0;34m.\u001b[0m\u001b[0mdata\u001b[0m\u001b[0;34m\u001b[0m\u001b[0m\n\u001b[1;32m     87\u001b[0m     \u001b[0;31m# (start the forward pass at conv1 to avoid loading new data)\u001b[0m\u001b[0;34m\u001b[0m\u001b[0;34m\u001b[0m\u001b[0m\n\u001b[0;32m---> 88\u001b[0;31m       \u001b[0msolver\u001b[0m\u001b[0;34m.\u001b[0m\u001b[0mtest_nets\u001b[0m\u001b[0;34m[\u001b[0m\u001b[0;36m0\u001b[0m\u001b[0;34m]\u001b[0m\u001b[0;34m.\u001b[0m\u001b[0mforward\u001b[0m\u001b[0;34m(\u001b[0m\u001b[0mstart\u001b[0m\u001b[0;34m=\u001b[0m\u001b[0;34m'conv1'\u001b[0m\u001b[0;34m)\u001b[0m\u001b[0;34m\u001b[0m\u001b[0m\n\u001b[0m\u001b[1;32m     89\u001b[0m       \u001b[0moutput\u001b[0m\u001b[0;34m[\u001b[0m\u001b[0mit\u001b[0m\u001b[0;34m]\u001b[0m \u001b[0;34m=\u001b[0m \u001b[0msolver\u001b[0m\u001b[0;34m.\u001b[0m\u001b[0mtest_nets\u001b[0m\u001b[0;34m[\u001b[0m\u001b[0;36m0\u001b[0m\u001b[0;34m]\u001b[0m\u001b[0;34m.\u001b[0m\u001b[0mblobs\u001b[0m\u001b[0;34m[\u001b[0m\u001b[0;34m'ip1'\u001b[0m\u001b[0;34m]\u001b[0m\u001b[0;34m.\u001b[0m\u001b[0mdata\u001b[0m\u001b[0;34m[\u001b[0m\u001b[0;34m:\u001b[0m\u001b[0;36m8\u001b[0m\u001b[0;34m]\u001b[0m\u001b[0;34m\u001b[0m\u001b[0m\n\u001b[1;32m     90\u001b[0m       \u001b[0msolver\u001b[0m\u001b[0;34m.\u001b[0m\u001b[0mnet\u001b[0m\u001b[0;34m.\u001b[0m\u001b[0mparams\u001b[0m\u001b[0;34m[\u001b[0m\u001b[0mlayername\u001b[0m\u001b[0;34m]\u001b[0m\u001b[0;34m[\u001b[0m\u001b[0;36m0\u001b[0m\u001b[0;34m]\u001b[0m\u001b[0;34m.\u001b[0m\u001b[0mdata\u001b[0m\u001b[0;34m[\u001b[0m\u001b[0;34m:\u001b[0m\u001b[0;34m]\u001b[0m \u001b[0;34m=\u001b[0m \u001b[0msolver\u001b[0m\u001b[0;34m.\u001b[0m\u001b[0mnet\u001b[0m\u001b[0;34m.\u001b[0m\u001b[0mparams\u001b[0m\u001b[0;34m[\u001b[0m\u001b[0mlayername\u001b[0m\u001b[0;34m]\u001b[0m\u001b[0;34m[\u001b[0m\u001b[0;36m0\u001b[0m\u001b[0;34m]\u001b[0m\u001b[0;34m.\u001b[0m\u001b[0mdata\u001b[0m\u001b[0;34m[\u001b[0m\u001b[0;34m:\u001b[0m\u001b[0;34m]\u001b[0m  \u001b[0;34m*\u001b[0m \u001b[0mmask\u001b[0m\u001b[0;34m\u001b[0m\u001b[0m\n",
      "\u001b[0;32m/home/super/ISHA/Deep_Learning/Caffe/caffe/python/caffe/pycaffe.pyc\u001b[0m in \u001b[0;36m_Net_forward\u001b[0;34m(self, blobs, start, end, **kwargs)\u001b[0m\n\u001b[1;32m    119\u001b[0m             \u001b[0mself\u001b[0m\u001b[0;34m.\u001b[0m\u001b[0mblobs\u001b[0m\u001b[0;34m[\u001b[0m\u001b[0min_\u001b[0m\u001b[0;34m]\u001b[0m\u001b[0;34m.\u001b[0m\u001b[0mdata\u001b[0m\u001b[0;34m[\u001b[0m\u001b[0;34m.\u001b[0m\u001b[0;34m.\u001b[0m\u001b[0;34m.\u001b[0m\u001b[0;34m]\u001b[0m \u001b[0;34m=\u001b[0m \u001b[0mblob\u001b[0m\u001b[0;34m\u001b[0m\u001b[0m\n\u001b[1;32m    120\u001b[0m \u001b[0;34m\u001b[0m\u001b[0m\n\u001b[0;32m--> 121\u001b[0;31m     \u001b[0mself\u001b[0m\u001b[0;34m.\u001b[0m\u001b[0m_forward\u001b[0m\u001b[0;34m(\u001b[0m\u001b[0mstart_ind\u001b[0m\u001b[0;34m,\u001b[0m \u001b[0mend_ind\u001b[0m\u001b[0;34m)\u001b[0m\u001b[0;34m\u001b[0m\u001b[0m\n\u001b[0m\u001b[1;32m    122\u001b[0m \u001b[0;34m\u001b[0m\u001b[0m\n\u001b[1;32m    123\u001b[0m     \u001b[0;31m# Unpack blobs to extract\u001b[0m\u001b[0;34m\u001b[0m\u001b[0;34m\u001b[0m\u001b[0m\n",
      "\u001b[0;31mKeyboardInterrupt\u001b[0m: "
     ]
    }
   ],
   "source": [
    "from scipy.cluster.vq import vq, kmeans, whiten, kmeans2\n",
    "\n",
    "numClusters=[2,4,8,16,32]\n",
    "final_acc=[]\n",
    "for nc in numClusters:\n",
    "    print('running for clusters',nc)\n",
    "    final_acc.append(top_level_training(solver,nc,mask100,data100,reference100,'conv1',niter=60000))\n",
    "    print('final_acc')"
   ]
  },
  {
   "cell_type": "code",
   "execution_count": null,
   "metadata": {
    "collapsed": false
   },
   "outputs": [],
   "source": [
    "len(np.nonzero(solver.net.params['conv1'][0].data[:])[0])"
   ]
  },
  {
   "cell_type": "code",
   "execution_count": null,
   "metadata": {
    "collapsed": true
   },
   "outputs": [],
   "source": []
  },
  {
   "cell_type": "code",
   "execution_count": null,
   "metadata": {
    "collapsed": true
   },
   "outputs": [],
   "source": []
  },
  {
   "cell_type": "code",
   "execution_count": null,
   "metadata": {
    "collapsed": true
   },
   "outputs": [],
   "source": []
  },
  {
   "cell_type": "code",
   "execution_count": null,
   "metadata": {
    "collapsed": true
   },
   "outputs": [],
   "source": []
  },
  {
   "cell_type": "code",
   "execution_count": null,
   "metadata": {
    "collapsed": true
   },
   "outputs": [],
   "source": []
  },
  {
   "cell_type": "code",
   "execution_count": null,
   "metadata": {
    "collapsed": true
   },
   "outputs": [],
   "source": []
  },
  {
   "cell_type": "code",
   "execution_count": null,
   "metadata": {
    "collapsed": true
   },
   "outputs": [],
   "source": []
  },
  {
   "cell_type": "code",
   "execution_count": null,
   "metadata": {
    "collapsed": true
   },
   "outputs": [],
   "source": []
  },
  {
   "cell_type": "code",
   "execution_count": null,
   "metadata": {
    "collapsed": true
   },
   "outputs": [],
   "source": []
  },
  {
   "cell_type": "code",
   "execution_count": null,
   "metadata": {
    "collapsed": true
   },
   "outputs": [],
   "source": []
  },
  {
   "cell_type": "code",
   "execution_count": null,
   "metadata": {
    "collapsed": true
   },
   "outputs": [],
   "source": []
  },
  {
   "cell_type": "code",
   "execution_count": null,
   "metadata": {
    "collapsed": true
   },
   "outputs": [],
   "source": []
  },
  {
   "cell_type": "code",
   "execution_count": null,
   "metadata": {
    "collapsed": true
   },
   "outputs": [],
   "source": []
  },
  {
   "cell_type": "code",
   "execution_count": null,
   "metadata": {
    "collapsed": true
   },
   "outputs": [],
   "source": []
  },
  {
   "cell_type": "code",
   "execution_count": null,
   "metadata": {
    "collapsed": true
   },
   "outputs": [],
   "source": []
  },
  {
   "cell_type": "code",
   "execution_count": null,
   "metadata": {
    "collapsed": true
   },
   "outputs": [],
   "source": []
  },
  {
   "cell_type": "code",
   "execution_count": null,
   "metadata": {
    "collapsed": true
   },
   "outputs": [],
   "source": []
  },
  {
   "cell_type": "code",
   "execution_count": null,
   "metadata": {
    "collapsed": true
   },
   "outputs": [],
   "source": []
  },
  {
   "cell_type": "code",
   "execution_count": null,
   "metadata": {
    "collapsed": true
   },
   "outputs": [],
   "source": []
  },
  {
   "cell_type": "code",
   "execution_count": null,
   "metadata": {
    "collapsed": true
   },
   "outputs": [],
   "source": []
  },
  {
   "cell_type": "code",
   "execution_count": null,
   "metadata": {
    "collapsed": true
   },
   "outputs": [],
   "source": []
  }
 ],
 "metadata": {
  "kernelspec": {
   "display_name": "Python 2",
   "language": "python",
   "name": "python2"
  },
  "language_info": {
   "codemirror_mode": {
    "name": "ipython",
    "version": 2
   },
   "file_extension": ".py",
   "mimetype": "text/x-python",
   "name": "python",
   "nbconvert_exporter": "python",
   "pygments_lexer": "ipython2",
   "version": "2.7.12"
  }
 },
 "nbformat": 4,
 "nbformat_minor": 2
}
